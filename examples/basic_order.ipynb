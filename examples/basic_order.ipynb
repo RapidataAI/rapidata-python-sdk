{
 "cells": [
  {
   "cell_type": "code",
   "execution_count": 1,
   "metadata": {},
   "outputs": [],
   "source": [
    "from src.rapidata_client.rapidata_client import RapidataClient\n",
    "import dotenv\n",
    "import os\n",
    "dotenv.load_dotenv()\n",
    "\n",
    "CLIENT_ID = os.getenv(\"CLIENT_ID\")\n",
    "CLIENT_SECRET = os.getenv(\"CLIENT_SECRET\")\n",
    "ENDPOINT = os.getenv(\"ENDPOINT\")\n",
    "\n",
    "if not CLIENT_ID:\n",
    "    raise Exception(\"CLIENT_ID not found in environment variables\")\n",
    "\n",
    "if not CLIENT_SECRET:\n",
    "    raise Exception(\"CLIENT_SECRET not found in environment variables\")\n",
    "\n",
    "if not ENDPOINT:\n",
    "    raise Exception(\"ENDPOINT not found in environment variables\")\n",
    "\n",
    "rapi = RapidataClient(client_id=CLIENT_ID, client_secret=CLIENT_SECRET, endpoint=ENDPOINT)"
   ]
  },
  {
   "cell_type": "code",
   "execution_count": 2,
   "metadata": {},
   "outputs": [],
   "source": [
    "from src.rapidata_client.order.referee.naive_referee import NaiveReferee\n",
    "\n",
    "\n",
    "order = (\n",
    "    rapi.new_order(\n",
    "        name=\"Test Order new 2\",\n",
    "        question=\"What is the answer to life, the universe, and everything?\",\n",
    "        categories=[\"42\", \"43\", \"44\"],\n",
    "    )\n",
    "    .referee(NaiveReferee(required_guesses=15))\n",
    "    .create()\n",
    ")\n",
    "\n",
    "order.dataset.add_images_from_paths([\"examples/data/kamala_trump.jpg\"])\n",
    "\n",
    "order.submit()"
   ]
  }
 ],
 "metadata": {
  "kernelspec": {
   "display_name": "rapi-api",
   "language": "python",
   "name": "python3"
  },
  "language_info": {
   "codemirror_mode": {
    "name": "ipython",
    "version": 3
   },
   "file_extension": ".py",
   "mimetype": "text/x-python",
   "name": "python",
   "nbconvert_exporter": "python",
   "pygments_lexer": "ipython3",
   "version": "3.12.4"
  }
 },
 "nbformat": 4,
 "nbformat_minor": 2
}
