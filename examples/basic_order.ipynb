{
 "cells": [
  {
   "cell_type": "code",
   "execution_count": 1,
   "metadata": {},
   "outputs": [],
   "source": [
    "from src.rapidata_client.rapidata_client import RapidataClient\n",
    "import dotenv\n",
    "import os\n",
    "dotenv.load_dotenv()\n",
    "\n",
    "CLIENT_ID = os.getenv(\"CLIENT_ID\")\n",
    "CLIENT_SECRET = os.getenv(\"CLIENT_SECRET\")\n",
    "ENDPOINT = os.getenv(\"ENDPOINT\")\n",
    "\n",
    "if not CLIENT_ID:\n",
    "    raise Exception(\"CLIENT_ID not found in environment variables\")\n",
    "\n",
    "if not CLIENT_SECRET:\n",
    "    raise Exception(\"CLIENT_SECRET not found in environment variables\")\n",
    "\n",
    "if not ENDPOINT:\n",
    "    raise Exception(\"ENDPOINT not found in environment variables\")\n",
    "\n",
    "rapi = RapidataClient(client_id=CLIENT_ID, client_secret=CLIENT_SECRET, endpoint=ENDPOINT)"
   ]
  },
  {
   "cell_type": "markdown",
   "metadata": {},
   "source": [
    "## Basic Classify Order"
   ]
  },
  {
   "cell_type": "code",
   "execution_count": 2,
   "metadata": {},
   "outputs": [],
   "source": [
    "from src.rapidata_client.order.feature_flags.feature_flags import FeatureFlags\n",
    "from src.rapidata_client.order.workflow.classify_workflow import ClassifyWorkflow\n",
    "from src.rapidata_client.order.referee.naive_referee import NaiveReferee\n",
    "\n",
    "# Configure order\n",
    "order = (\n",
    "    rapi.new_order(\n",
    "        name=\"Example Classify Order\",\n",
    "    )\n",
    "    .workflow(\n",
    "        ClassifyWorkflow(\n",
    "            question=\"Who should be president?\",\n",
    "            categories=[\"Kamala Harris\", \"Donald Trump\"],\n",
    "        )\n",
    "        .referee(NaiveReferee(required_guesses=15))\n",
    "        .feature_flags(FeatureFlags().alert_on_fast_response(3))\n",
    "    )\n",
    "    .create()\n",
    ")\n",
    "\n",
    "# Add data\n",
    "order.dataset.add_images_from_paths([\"examples/data/kamala_trump.jpg\"])\n",
    "\n",
    "# Let's go!\n",
    "order.submit()\n",
    "# order.approve() admin only: if it doesn't auto approve and you want to manually approve"
   ]
  },
  {
   "cell_type": "markdown",
   "metadata": {},
   "source": [
    "## Compare Order"
   ]
  },
  {
   "cell_type": "code",
   "execution_count": 4,
   "metadata": {},
   "outputs": [],
   "source": [
    "from src.rapidata_client.order.workflow.compare_workflow import CompareWorkflow\n",
    "\n",
    "\n",
    "order = rapi.new_order(\n",
    "    name=\"Example Compare Order\",\n",
    ").workflow(\n",
    "    CompareWorkflow(\n",
    "        criteria=\"Who should be president?\",\n",
    "    )\n",
    "    .matches_until_completed(5)\n",
    "    .match_size(2)\n",
    ").create()\n",
    "\n",
    "order.dataset.add_images_from_paths([\"examples/data/kamala.jpg\", \"examples/data/trump.jpg\"])\n",
    "\n",
    "order.submit()\n",
    "# order.approve()"
   ]
  }
 ],
 "metadata": {
  "kernelspec": {
   "display_name": "rapi-api",
   "language": "python",
   "name": "python3"
  },
  "language_info": {
   "codemirror_mode": {
    "name": "ipython",
    "version": 3
   },
   "file_extension": ".py",
   "mimetype": "text/x-python",
   "name": "python",
   "nbconvert_exporter": "python",
   "pygments_lexer": "ipython3",
   "version": "3.12.4"
  }
 },
 "nbformat": 4,
 "nbformat_minor": 2
}
