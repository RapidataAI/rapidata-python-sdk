{
 "cells": [
  {
   "cell_type": "code",
   "execution_count": null,
   "metadata": {},
   "outputs": [],
   "source": [
    "from src.rapidata_client.rapidata_client import RapidataClient\n",
    "import dotenv\n",
    "import os\n",
    "dotenv.load_dotenv()\n",
    "\n",
    "API_KEY = os.getenv(\"API_KEY\")\n",
    "ENDPOINT = os.getenv(\"ENDPOINT\")\n",
    "\n",
    "if not API_KEY:\n",
    "    raise Exception(\"API_KEY not found in environment variables\")\n",
    "\n",
    "if not ENDPOINT:\n",
    "    raise Exception(\"ENDPOINT not found in environment variables\")\n",
    "\n",
    "rapi = RapidataClient(api_key=API_KEY, endpoint=ENDPOINT)"
   ]
  },
  {
   "cell_type": "code",
   "execution_count": null,
   "metadata": {},
   "outputs": [],
   "source": [
    "order = rapi.new_order(\n",
    "    name=\"Test Order\",\n",
    "    question=\"What is the answer to life, the universe, and everything?\",\n",
    "    categories=[\"42\", \"43\", \"44\"],\n",
    ").create()\n",
    "\n",
    "\n",
    "\n",
    "order.submit()"
   ]
  }
 ],
 "metadata": {
  "kernelspec": {
   "display_name": "rapi-api",
   "language": "python",
   "name": "python3"
  },
  "language_info": {
   "codemirror_mode": {
    "name": "ipython",
    "version": 3
   },
   "file_extension": ".py",
   "mimetype": "text/x-python",
   "name": "python",
   "nbconvert_exporter": "python",
   "pygments_lexer": "ipython3",
   "version": "3.12.4"
  }
 },
 "nbformat": 4,
 "nbformat_minor": 2
}
